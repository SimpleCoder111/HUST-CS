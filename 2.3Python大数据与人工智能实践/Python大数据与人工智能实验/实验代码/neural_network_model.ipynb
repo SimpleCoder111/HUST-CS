{
 "cells": [
  {
   "cell_type": "code",
   "execution_count": 1,
   "id": "2f8d7360",
   "metadata": {},
   "outputs": [],
   "source": [
    "# import libraray\n",
    "import torch\n",
    "from torch import nn, optim\n",
    "import pandas as pd\n",
    "import numpy as np"
   ]
  },
  {
   "cell_type": "code",
   "execution_count": 2,
   "id": "5a171ccb",
   "metadata": {},
   "outputs": [],
   "source": [
    "# Read Dataset\n",
    "df = pd.read_csv(\"./dataset/movie-rating-additional.csv\")\n",
    "df['Year'] = df['Year'].str.split('–').str[0]\n",
    "df['Year'] = pd.to_numeric(df['Year'], errors='coerce')\n",
    "\n",
    "X = df.iloc[:, 2:-1].values\n",
    "y = df.iloc[:, -1].values"
   ]
  },
  {
   "cell_type": "code",
   "execution_count": 3,
   "id": "e7aad5ac",
   "metadata": {},
   "outputs": [
    {
     "name": "stdout",
     "output_type": "stream",
     "text": [
      "[[1.9950000e+03 1.0000000e+00 1.0000000e+00 ... 3.9440000e+08\n",
      "  3.0000000e+07 8.1000000e+01]\n",
      " [1.9950000e+03 1.0000000e+00 0.0000000e+00 ... 2.6282194e+08\n",
      "  6.5000000e+07 1.0400000e+02]\n",
      " [1.9950000e+03 0.0000000e+00 0.0000000e+00 ... 7.1500000e+07\n",
      "  2.5000000e+07 1.0100000e+02]\n",
      " ...\n",
      " [2.0170000e+03 0.0000000e+00 0.0000000e+00 ... 0.0000000e+00\n",
      "  0.0000000e+00 9.6000000e+01]\n",
      " [2.0180000e+03 0.0000000e+00 1.0000000e+00 ... 0.0000000e+00\n",
      "  0.0000000e+00 9.0000000e+01]\n",
      " [1.9910000e+03 0.0000000e+00 0.0000000e+00 ... 0.0000000e+00\n",
      "  0.0000000e+00 8.5000000e+01]]\n"
     ]
    }
   ],
   "source": [
    "print(X)"
   ]
  },
  {
   "cell_type": "code",
   "execution_count": 4,
   "id": "20eeb131",
   "metadata": {},
   "outputs": [
    {
     "name": "stdout",
     "output_type": "stream",
     "text": [
      "[3.92093023 3.43181818 3.25961538 ... 3.5        3.5        4.        ]\n"
     ]
    }
   ],
   "source": [
    "print(y)"
   ]
  },
  {
   "cell_type": "code",
   "execution_count": 5,
   "id": "b764bbb6",
   "metadata": {},
   "outputs": [
    {
     "name": "stdout",
     "output_type": "stream",
     "text": [
      "torch.float32\n",
      "torch.float32\n"
     ]
    }
   ],
   "source": [
    "X = torch.from_numpy(X).type(torch.float32)\n",
    "y = torch.from_numpy(y).type(torch.float32)\n",
    "print(X.dtype)\n",
    "print(y.dtype)"
   ]
  },
  {
   "cell_type": "code",
   "execution_count": 6,
   "id": "5b5427bb",
   "metadata": {},
   "outputs": [],
   "source": [
    "from sklearn.model_selection import train_test_split\n",
    "\n",
    "# Assuming that X is your feature matrix and y are your targets\n",
    "X_train, X_test, y_train, y_test = train_test_split(X, y, test_size=0.1)"
   ]
  },
  {
   "cell_type": "code",
   "execution_count": 7,
   "id": "c2e83b7f",
   "metadata": {},
   "outputs": [],
   "source": [
    "# Feature Scaling\n",
    "from sklearn.preprocessing import StandardScaler\n",
    "sc = StandardScaler()\n",
    "\n",
    "X_train = torch.from_numpy(sc.fit_transform(X_train)).type(torch.float32)\n",
    "X_test = torch.from_numpy(sc.transform(X_test)).type(torch.float32)"
   ]
  },
  {
   "cell_type": "code",
   "execution_count": 8,
   "id": "1d5444be",
   "metadata": {},
   "outputs": [
    {
     "name": "stdout",
     "output_type": "stream",
     "text": [
      "torch.float32\n",
      "torch.float32\n",
      "torch.float32 torch.Size([8750, 1])\n",
      "torch.float32 torch.Size([8750, 1])\n"
     ]
    }
   ],
   "source": [
    "print(X_train.dtype)\n",
    "print(X_test.dtype)\n",
    "y_train = y_train.unsqueeze(1)\n",
    "y_test = y_test.unsqueeze(1)\n",
    "print(y_train.dtype, y_train.shape)\n",
    "print(y_test.dtype, y_train.shape)"
   ]
  },
  {
   "cell_type": "code",
   "execution_count": 9,
   "id": "53e7361d",
   "metadata": {},
   "outputs": [],
   "source": [
    "# Define the model\n",
    "\n",
    "class MyRatingPredictionModel(nn.Module):\n",
    "    def __init__(self, input_size, output_size):\n",
    "        super(MyRatingPredictionModel, self).__init__()\n",
    "        self.linear1 = nn.Linear(input_size, 256)\n",
    "        self.linear2 = nn.Linear(256, 256)\n",
    "        self.linear3 = nn.Linear(256, output_size)\n",
    "        self.relu = nn.ReLU()\n",
    "        \n",
    "    def forward(self, x):\n",
    "        x = self.linear1(x)\n",
    "        x = self.relu(x)\n",
    "        x = self.linear2(x)\n",
    "        x = self.relu(x)\n",
    "        x = self.linear3(x)\n",
    "        return x"
   ]
  },
  {
   "cell_type": "code",
   "execution_count": 10,
   "id": "7267779c",
   "metadata": {},
   "outputs": [
    {
     "name": "stdout",
     "output_type": "stream",
     "text": [
      "Epoch [1/100], Loss: 10.83878231048584\n",
      "Epoch [2/100], Loss: 2.7733380794525146\n",
      "Epoch [3/100], Loss: 2.3103785514831543\n",
      "Epoch [4/100], Loss: 0.9996708631515503\n",
      "Epoch [5/100], Loss: 1.2502743005752563\n",
      "Epoch [6/100], Loss: 1.1482031345367432\n",
      "Epoch [7/100], Loss: 1.0730552673339844\n",
      "Epoch [8/100], Loss: 1.0922129154205322\n",
      "Epoch [9/100], Loss: 0.8524869084358215\n",
      "Epoch [10/100], Loss: 0.7030393481254578\n",
      "Epoch [11/100], Loss: 0.7322006821632385\n",
      "Epoch [12/100], Loss: 0.7514469027519226\n",
      "Epoch [13/100], Loss: 0.7643797993659973\n",
      "Epoch [14/100], Loss: 0.8033482432365417\n",
      "Epoch [15/100], Loss: 0.7669041156768799\n",
      "Epoch [16/100], Loss: 0.6779187917709351\n",
      "Epoch [17/100], Loss: 0.6441068053245544\n",
      "Epoch [18/100], Loss: 0.6368420720100403\n",
      "Epoch [19/100], Loss: 0.6182554364204407\n",
      "Epoch [20/100], Loss: 0.6295669674873352\n",
      "Epoch [21/100], Loss: 0.648989200592041\n",
      "Epoch [22/100], Loss: 0.6285043358802795\n",
      "Epoch [23/100], Loss: 0.6148910522460938\n",
      "Epoch [24/100], Loss: 0.6126564741134644\n",
      "Epoch [25/100], Loss: 0.5906147360801697\n",
      "Epoch [26/100], Loss: 0.582207977771759\n",
      "Epoch [27/100], Loss: 0.5902034640312195\n",
      "Epoch [28/100], Loss: 0.5803468823432922\n",
      "Epoch [29/100], Loss: 0.5770109295845032\n",
      "Epoch [30/100], Loss: 0.5806244015693665\n",
      "Epoch [31/100], Loss: 0.5676451325416565\n",
      "Epoch [32/100], Loss: 0.5600709319114685\n",
      "Epoch [33/100], Loss: 0.5585438013076782\n",
      "Epoch [34/100], Loss: 0.5475948452949524\n",
      "Epoch [35/100], Loss: 0.5469199419021606\n",
      "Epoch [36/100], Loss: 0.5490413904190063\n",
      "Epoch [37/100], Loss: 0.5445783734321594\n",
      "Epoch [38/100], Loss: 0.5469614863395691\n",
      "Epoch [39/100], Loss: 0.5446650385856628\n",
      "Epoch [40/100], Loss: 0.5392798185348511\n",
      "Epoch [41/100], Loss: 0.5394365787506104\n",
      "Epoch [42/100], Loss: 0.5351829528808594\n",
      "Epoch [43/100], Loss: 0.5339599847793579\n",
      "Epoch [44/100], Loss: 0.5345133543014526\n",
      "Epoch [45/100], Loss: 0.5311388969421387\n",
      "Epoch [46/100], Loss: 0.5311051607131958\n",
      "Epoch [47/100], Loss: 0.5285463333129883\n",
      "Epoch [48/100], Loss: 0.5257675647735596\n",
      "Epoch [49/100], Loss: 0.5254257917404175\n",
      "Epoch [50/100], Loss: 0.5229705572128296\n",
      "Epoch [51/100], Loss: 0.5232014060020447\n",
      "Epoch [52/100], Loss: 0.5226860642433167\n",
      "Epoch [53/100], Loss: 0.5215319395065308\n",
      "Epoch [54/100], Loss: 0.5213178396224976\n",
      "Epoch [55/100], Loss: 0.5191150903701782\n",
      "Epoch [56/100], Loss: 0.5183369517326355\n",
      "Epoch [57/100], Loss: 0.517048716545105\n",
      "Epoch [58/100], Loss: 0.5161868333816528\n",
      "Epoch [59/100], Loss: 0.5160630345344543\n",
      "Epoch [60/100], Loss: 0.5150102972984314\n",
      "Epoch [61/100], Loss: 0.51474529504776\n",
      "Epoch [62/100], Loss: 0.5135310292243958\n",
      "Epoch [63/100], Loss: 0.5128027200698853\n",
      "Epoch [64/100], Loss: 0.5120784640312195\n",
      "Epoch [65/100], Loss: 0.511354923248291\n",
      "Epoch [66/100], Loss: 0.5111078023910522\n",
      "Epoch [67/100], Loss: 0.5103230476379395\n",
      "Epoch [68/100], Loss: 0.5099120736122131\n",
      "Epoch [69/100], Loss: 0.5089946985244751\n",
      "Epoch [70/100], Loss: 0.5083931088447571\n",
      "Epoch [71/100], Loss: 0.5077468752861023\n",
      "Epoch [72/100], Loss: 0.5072415471076965\n",
      "Epoch [73/100], Loss: 0.5068625211715698\n",
      "Epoch [74/100], Loss: 0.5062845945358276\n",
      "Epoch [75/100], Loss: 0.5058438777923584\n",
      "Epoch [76/100], Loss: 0.5051539540290833\n",
      "Epoch [77/100], Loss: 0.5046963691711426\n",
      "Epoch [78/100], Loss: 0.5041182041168213\n",
      "Epoch [79/100], Loss: 0.50372713804245\n",
      "Epoch [80/100], Loss: 0.5032264590263367\n",
      "Epoch [81/100], Loss: 0.5027520656585693\n",
      "Epoch [82/100], Loss: 0.5022159814834595\n",
      "Epoch [83/100], Loss: 0.5016874670982361\n",
      "Epoch [84/100], Loss: 0.5012261867523193\n",
      "Epoch [85/100], Loss: 0.5007641315460205\n",
      "Epoch [86/100], Loss: 0.5003628730773926\n",
      "Epoch [87/100], Loss: 0.49988430738449097\n",
      "Epoch [88/100], Loss: 0.4994395077228546\n",
      "Epoch [89/100], Loss: 0.4989304542541504\n",
      "Epoch [90/100], Loss: 0.49849453568458557\n",
      "Epoch [91/100], Loss: 0.49803614616394043\n",
      "Epoch [92/100], Loss: 0.49763715267181396\n",
      "Epoch [93/100], Loss: 0.4971873462200165\n",
      "Epoch [94/100], Loss: 0.49676162004470825\n",
      "Epoch [95/100], Loss: 0.4963015615940094\n",
      "Epoch [96/100], Loss: 0.4958823621273041\n",
      "Epoch [97/100], Loss: 0.49544766545295715\n",
      "Epoch [98/100], Loss: 0.495038777589798\n",
      "Epoch [99/100], Loss: 0.4946025609970093\n",
      "Epoch [100/100], Loss: 0.4941779673099518\n"
     ]
    }
   ],
   "source": [
    "# Instantiate and training the model\n",
    "input_size = X.shape[1]\n",
    "# print(input_size)\n",
    "model = MyRatingPredictionModel(input_size = input_size, output_size = 1)\n",
    "# Define a loss function\n",
    "criterion = nn.MSELoss()\n",
    "optimizer = optim.Adam(model.parameters(), lr=0.01)\n",
    "# Training Loop\n",
    "num_epochs = 100\n",
    "for epoch in range(num_epochs):\n",
    "    # Training loop\n",
    "    model.train()  # Set the model to training mode\n",
    "    \n",
    "    outputs = model(X_train)\n",
    "#     outputs = outputs.squeeze()\n",
    "    \n",
    "#     print(outputs.shape)\n",
    "#     print(y_train.shape)\n",
    "    loss = criterion(outputs, y_train)\n",
    "\n",
    "    # Backward pass and optimization\n",
    "    optimizer.zero_grad()\n",
    "    loss.backward()\n",
    "    optimizer.step()\n",
    "\n",
    "    print(f\"Epoch [{epoch+1}/{num_epochs}], Loss: {loss.item()}\")"
   ]
  },
  {
   "cell_type": "code",
   "execution_count": 11,
   "id": "8f43f433",
   "metadata": {},
   "outputs": [
    {
     "name": "stdout",
     "output_type": "stream",
     "text": [
      "Validation Loss: 0.5134760737419128\n"
     ]
    }
   ],
   "source": [
    " # Validation loop\n",
    "model.eval()  # Set the model to evaluation mode\n",
    "with torch.no_grad():  # Disable gradient calculation\n",
    "    total = 0\n",
    "    correct = 0\n",
    "\n",
    "    # Forward pass\n",
    "    outputs = model(X_test)\n",
    "\n",
    "    # Compute validation loss\n",
    "    val_loss = criterion(outputs, y_test)\n",
    "\n",
    "print(f'Validation Loss: {val_loss.item()}')"
   ]
  },
  {
   "cell_type": "code",
   "execution_count": 12,
   "id": "2a215a89",
   "metadata": {},
   "outputs": [],
   "source": [
    "# def regression_accuracy(y_true, y_pred, tolerance=0.5):\n",
    "#     return np.mean(np.abs(y_true - y_pred) <= tolerance)"
   ]
  },
  {
   "cell_type": "code",
   "execution_count": 13,
   "id": "587937d4",
   "metadata": {},
   "outputs": [
    {
     "name": "stdout",
     "output_type": "stream",
     "text": [
      "[[[2.5       3.1402633]]\n",
      "\n",
      " [[3.        3.1484454]]\n",
      "\n",
      " [[3.        3.5812724]]\n",
      "\n",
      " ...\n",
      "\n",
      " [[3.5       3.1630433]]\n",
      "\n",
      " [[3.55      2.9367127]]\n",
      "\n",
      " [[2.5       1.8058898]]]\n"
     ]
    }
   ],
   "source": [
    "y_test_np = y_test.cpu().numpy()\n",
    "outputs_np = outputs.cpu().numpy()\n",
    "print(np.stack((y_test_np, outputs_np), axis=-1))"
   ]
  },
  {
   "cell_type": "code",
   "execution_count": 15,
   "id": "be438d04",
   "metadata": {},
   "outputs": [
    {
     "name": "stdout",
     "output_type": "stream",
     "text": [
      "accuracy:89.63725280761719% \n",
      "root_mean_square:0.5134760737419128 \n",
      "mean_absolute_error:0.5181372165679932 \n",
      "r2_score: 0.28250340819933906\n"
     ]
    }
   ],
   "source": [
    "from sklearn.metrics import mean_absolute_error\n",
    "from sklearn.metrics import r2_score\n",
    "# R-squared (R²): This is a statistical measure that represents the proportion of the variance for a dependent variable that’s explained by an independent variable or variables in a regression model. \n",
    "r2 = r2_score(y_test_np, outputs_np)\n",
    "# Mean Squared Error (MSE): This is the average of the squared differences between the actual and predicted values. \n",
    "mse = np.mean((y_test_np - outputs_np)**2)\n",
    "rmse = np.sqrt(mse)\n",
    "# Mean Absolute Error (MAE): This is the average of the absolute differences between the actual and predicted values.\n",
    "mae = mean_absolute_error(y_test_np, outputs_np)\n",
    "# Find the maximum and minimum values in the dataset\n",
    "max_value = torch.max(y_test)\n",
    "min_value = torch.min(y_test)\n",
    "\n",
    "# Calculate the Range\n",
    "range = max_value - min_value\n",
    "# print(range)\n",
    "\n",
    "# Calculate the Accuracy\n",
    "accuracy = 1 - (mae / range)\n",
    "\n",
    "print(f\"accuracy:{accuracy*100}% \\nroot_mean_square:{mse} \\nmean_absolute_error:{mae} \\nr2_score: {r2}\")"
   ]
  },
  {
   "cell_type": "code",
   "execution_count": null,
   "id": "37a2ca3a",
   "metadata": {},
   "outputs": [],
   "source": []
  }
 ],
 "metadata": {
  "kernelspec": {
   "display_name": "Python 3 (ipykernel)",
   "language": "python",
   "name": "python3"
  },
  "language_info": {
   "codemirror_mode": {
    "name": "ipython",
    "version": 3
   },
   "file_extension": ".py",
   "mimetype": "text/x-python",
   "name": "python",
   "nbconvert_exporter": "python",
   "pygments_lexer": "ipython3",
   "version": "3.11.3"
  }
 },
 "nbformat": 4,
 "nbformat_minor": 5
}
