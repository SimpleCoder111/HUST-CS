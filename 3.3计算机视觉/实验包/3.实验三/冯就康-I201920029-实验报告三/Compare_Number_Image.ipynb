{
 "cells": [
  {
   "cell_type": "code",
   "execution_count": 1,
   "metadata": {},
   "outputs": [],
   "source": [
    "# Import library\n",
    "import torch\n",
    "from torch import nn\n",
    "from torchvision import datasets, transforms\n",
    "from torch.utils.data import DataLoader, Dataset\n",
    "import torch.nn.functional as F"
   ]
  },
  {
   "cell_type": "code",
   "execution_count": 2,
   "metadata": {},
   "outputs": [
    {
     "data": {
      "text/plain": [
       "<torch._C.Generator at 0x20a3f88e830>"
      ]
     },
     "execution_count": 2,
     "metadata": {},
     "output_type": "execute_result"
    }
   ],
   "source": [
    "torch.manual_seed(0)"
   ]
  },
  {
   "cell_type": "code",
   "execution_count": 3,
   "metadata": {},
   "outputs": [],
   "source": [
    "# Load MNIST dataset\n",
    "transform = transforms.Compose([transforms.ToTensor(), transforms.Normalize((0.1307,), (0.3081,))])\n",
    "train_dataset = datasets.MNIST(root='./mnist_data/', train=True, transform=transform, download=True)\n",
    "test_dataset = datasets.MNIST(root='./mnist_data/', train=False, transform=transform)\n",
    "\n",
    "# Make sure to have every number\n",
    "\n",
    "# Select 10% of the data for this experiment\n",
    "train_data = torch.utils.data.Subset(train_dataset, range(int(len(train_dataset)*0.1)))\n",
    "test_data = torch.utils.data.Subset(test_dataset, range(int(len(test_dataset)*0.1)))\n",
    "\n",
    "# Create data loaders\n",
    "train_loader = DataLoader(train_data, batch_size=64, shuffle=True)\n",
    "test_loader = DataLoader(test_data, batch_size=64, shuffle=True)"
   ]
  },
  {
   "cell_type": "code",
   "execution_count": 4,
   "metadata": {},
   "outputs": [
    {
     "name": "stdout",
     "output_type": "stream",
     "text": [
      "Image of number 0 size is 5923\n",
      "Image of number 1 size is 6742\n",
      "Image of number 2 size is 5958\n",
      "Image of number 3 size is 6131\n",
      "Image of number 4 size is 5842\n",
      "Image of number 5 size is 5421\n",
      "Image of number 6 size is 5918\n",
      "Image of number 7 size is 6265\n",
      "Image of number 8 size is 5851\n",
      "Image of number 9 size is 5949\n"
     ]
    }
   ],
   "source": [
    "import numpy as np\n",
    "# check if the train_dataset has each number\n",
    "# Get all images of each digits\n",
    "for i in range(10):\n",
    "    digit_indices = np.where(train_dataset.targets == i)[0]\n",
    "    print(f\"Image of number {i} size is {digit_indices.size}\")"
   ]
  },
  {
   "cell_type": "code",
   "execution_count": 5,
   "metadata": {},
   "outputs": [],
   "source": [
    "# Define the CNN architecture\n",
    "class CNN(nn.Module):\n",
    "    def __init__(self):\n",
    "        super(CNN, self).__init__()\n",
    "        self.conv1 = nn.Conv2d(1, 32, kernel_size=5)\n",
    "        self.conv2 = nn.Conv2d(32, 64, kernel_size=5)\n",
    "        self.fc1 = nn.Linear(64*4*4, 256)\n",
    "        self.fc2 = nn.Linear(256, 2)\n",
    "\n",
    "    def forward_one(self, x):\n",
    "        x = F.relu(self.conv1(x))\n",
    "        x = F.max_pool2d(x, 2)\n",
    "        x = F.relu(self.conv2(x))\n",
    "        x = F.max_pool2d(x, 2)\n",
    "        x = x.view(x.size()[0], -1)\n",
    "        x = F.relu(self.fc1(x))\n",
    "        return x\n",
    "\n",
    "    def forward(self, input1, input2):\n",
    "        output1 = self.forward_one(input1)\n",
    "        output2 = self.forward_one(input2)\n",
    "        output = self.fc2(torch.abs(output1 - output2))\n",
    "        return output"
   ]
  },
  {
   "cell_type": "code",
   "execution_count": 6,
   "metadata": {},
   "outputs": [
    {
     "name": "stdout",
     "output_type": "stream",
     "text": [
      "Epoch 1, Loss: 0.002386371981590352\n",
      "Epoch 2, Loss: 0.0012819631461133349\n",
      "Epoch 3, Loss: 0.0007066637911695115\n",
      "Epoch 4, Loss: 0.0014740645568421546\n",
      "Epoch 5, Loss: 0.0020091896678539035\n",
      "Epoch 6, Loss: 0.001324441283941269\n",
      "Epoch 7, Loss: 0.00030311329805470525\n",
      "Epoch 8, Loss: 0.0004126962195051477\n",
      "Epoch 9, Loss: 6.153716388693515e-05\n",
      "Epoch 10, Loss: 0.00030202781187093004\n"
     ]
    }
   ],
   "source": [
    "# Initialize the network and define the loss and optimizer\n",
    "model = CNN()\n",
    "criterion = nn.CrossEntropyLoss()\n",
    "optimizer = torch.optim.Adam(model.parameters())\n",
    "\n",
    "# Training loop\n",
    "for epoch in range(10):\n",
    "    epoch_loss = 0.0\n",
    "    for i, data in enumerate(train_loader, 0):\n",
    "        inputs, labels = data\n",
    "        # Get the size of dimension 1 (channels)\n",
    "        channels = inputs.size(1)\n",
    "        # Split the inputs into two tensors along dimension 1\n",
    "        # Get the size of dimension 0 (batch size)\n",
    "        batch_size = inputs.size(0)\n",
    "        # Split the inputs into two tensors along dimension 0\n",
    "        inputs1, inputs2 = torch.split(inputs, batch_size // 2, dim=0)\n",
    "        batch_size = labels.size(0)\n",
    "\n",
    "        # Split the labels into two tensors along dimension 0\n",
    "        labels1, labels2 = torch.split(labels, batch_size // 2, dim=0)\n",
    "\n",
    "        # Compare the two sets of labels\n",
    "        labels = (labels1 == labels2).long()\n",
    "        optimizer.zero_grad()\n",
    "        \n",
    "        outputs = model(inputs1, inputs2)\n",
    "        loss = criterion(outputs, labels)\n",
    "        loss.backward()\n",
    "        optimizer.step()\n",
    "        epoch_loss = loss.item()\n",
    "    print(f\"Epoch {epoch+1}, Loss: {epoch_loss/len(train_loader)}\")"
   ]
  },
  {
   "cell_type": "code",
   "execution_count": 7,
   "metadata": {},
   "outputs": [
    {
     "name": "stdout",
     "output_type": "stream",
     "text": [
      "Accuracy of the network on the test images: 98.0%\n"
     ]
    }
   ],
   "source": [
    "# Evaluation mode\n",
    "model.eval()\n",
    "\n",
    "correct = 0\n",
    "total = 0\n",
    "\n",
    "# No gradient calculation\n",
    "with torch.no_grad():\n",
    "    for data in test_loader:\n",
    "        inputs, labels = data\n",
    "        # Get the size of dimension 0 (batch size)\n",
    "        batch_size = inputs.size(0)\n",
    "        # Split the inputs into two tensors along dimension 0\n",
    "        inputs1 = inputs[:batch_size // 2]\n",
    "        inputs2 = inputs[batch_size // 2:]\n",
    "        labels = (labels[:batch_size // 2] == labels[batch_size // 2:]).long()\n",
    "        outputs = model(inputs1, inputs2)\n",
    "        _, predicted = torch.max(outputs.data, 1)\n",
    "        total += labels.size(0)\n",
    "        correct += (predicted == labels).sum().item()\n",
    "    \n",
    "    accuracy = correct/total*100\n",
    "print(f'Accuracy of the network on the test images: {accuracy}%')"
   ]
  }
 ],
 "metadata": {
  "kernelspec": {
   "display_name": "cv2023",
   "language": "python",
   "name": "python3"
  },
  "language_info": {
   "codemirror_mode": {
    "name": "ipython",
    "version": 3
   },
   "file_extension": ".py",
   "mimetype": "text/x-python",
   "name": "python",
   "nbconvert_exporter": "python",
   "pygments_lexer": "ipython3",
   "version": "3.11.3"
  }
 },
 "nbformat": 4,
 "nbformat_minor": 2
}
