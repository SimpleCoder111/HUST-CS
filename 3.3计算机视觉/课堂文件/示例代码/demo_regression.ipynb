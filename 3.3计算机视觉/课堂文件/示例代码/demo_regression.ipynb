{
 "cells": [
  {
   "cell_type": "code",
   "execution_count": null,
   "id": "4826c66e-84ba-4f11-a314-73a20e31a64e",
   "metadata": {
    "tags": []
   },
   "outputs": [],
   "source": [
    "import torch\n",
    "import torch.nn as nn\n",
    "import torch.optim as optim\n",
    "\n",
    "import numpy as np"
   ]
  },
  {
   "cell_type": "code",
   "execution_count": null,
   "id": "e9d3a91d-3287-495e-99db-627e2b14e9c1",
   "metadata": {},
   "outputs": [],
   "source": [
    "n_example = 100\n",
    "X = torch.randn([n_example])\n",
    "print(X)"
   ]
  },
  {
   "cell_type": "code",
   "execution_count": null,
   "id": "bfa0afd7-2340-4a62-839a-baf5da5dea16",
   "metadata": {},
   "outputs": [],
   "source": [
    "noise = torch.randn([100]) - 0.5\n",
    "Y = X * 2.5 + noise * 0.001\n",
    "print(Y)"
   ]
  },
  {
   "cell_type": "code",
   "execution_count": null,
   "id": "2d65fd4c-7259-4a3f-9a7f-805837c278c4",
   "metadata": {},
   "outputs": [],
   "source": [
    "train_x = X[:80]"
   ]
  },
  {
   "cell_type": "code",
   "execution_count": null,
   "id": "defd2b9c-1d28-459f-bb02-104e99cd8f66",
   "metadata": {},
   "outputs": [],
   "source": [
    "train_y = Y[:80]"
   ]
  },
  {
   "cell_type": "code",
   "execution_count": null,
   "id": "c7249bff-f164-4604-8d4b-fcc5829bacd3",
   "metadata": {},
   "outputs": [],
   "source": [
    "test_x = X[80:]\n",
    "test_y = Y[80:]"
   ]
  },
  {
   "cell_type": "code",
   "execution_count": null,
   "id": "51538c6e-6cd9-4773-be48-c3f076e16f65",
   "metadata": {},
   "outputs": [],
   "source": [
    "class Model(nn.Module):\n",
    "    def __init__(self):\n",
    "        super(Model, self).__init__()\n",
    "        #self.w = torch.nn.Parameter(torch.tensor([0.0]))\n",
    "        #self.b = torch.nn.Parameter(torch.tensor([0.0]))\n",
    "        self.w = 0.0\n",
    "        self.b = 0.0\n",
    "    \n",
    "    def __call__(self, x):\n",
    "        y = self.w * x + self.b\n",
    "        #print(\"self.w\", self.w)\n",
    "        return y\n",
    "    \n",
    "    def print(self):\n",
    "        print(f\"w {self.w}, b {self.b}\")\n",
    "    \n",
    "model = Model()\n"
   ]
  },
  {
   "cell_type": "code",
   "execution_count": null,
   "id": "bb21ffe3-5381-4c8f-8128-c8a719ddcc26",
   "metadata": {},
   "outputs": [],
   "source": [
    "#optimizer = optim.Adam(model.parameters(), lr=0.001)\n",
    "\n",
    "for epoch in range(100):\n",
    "    for iter in range(80):\n",
    "        #optimizer.zero_grad()\n",
    "        #loss = (train_y[iter] - model(train_x[iter]))**2\n",
    "        #loss.backward() \n",
    "        #optimizer.step()\n",
    "        grad_w = 2 * (train_y[iter] - model(train_x[iter])) * train_x[iter]\n",
    "        grad_b = 2 * (train_y[iter] - model(train_x[iter]))\n",
    "        \n",
    "        model.w += 0.001 * grad_w\n",
    "        model.b += 0.001 * grad_b\n",
    "        \n",
    "        #print(loss)\n",
    "    model.print()"
   ]
  },
  {
   "cell_type": "code",
   "execution_count": null,
   "id": "456ff129-af78-4c20-a7ca-0dbb9a0bb027",
   "metadata": {},
   "outputs": [],
   "source": []
  }
 ],
 "metadata": {
  "kernelspec": {
   "display_name": "cvclass",
   "language": "python",
   "name": "cvclass"
  },
  "language_info": {
   "codemirror_mode": {
    "name": "ipython",
    "version": 3
   },
   "file_extension": ".py",
   "mimetype": "text/x-python",
   "name": "python",
   "nbconvert_exporter": "python",
   "pygments_lexer": "ipython3",
   "version": "3.8.18"
  }
 },
 "nbformat": 4,
 "nbformat_minor": 5
}
